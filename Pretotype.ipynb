{
 "cells": [
  {
   "cell_type": "code",
   "execution_count": 102,
   "metadata": {},
   "outputs": [],
   "source": [
    "import numpy as np\n",
    "import matplotlib.pyplot as plt\n",
    "import tensorflow as tf\n",
    "from tensorflow.keras.models import Sequential\n",
    "from tensorflow.keras.layers import Dense, Input, Conv2D, MaxPooling2D, Flatten\n",
    "from tensorflow.keras.preprocessing.image import ImageDataGenerator"
   ]
  },
  {
   "cell_type": "markdown",
   "metadata": {},
   "source": [
    "Pre-process Data"
   ]
  },
  {
   "cell_type": "code",
   "execution_count": 103,
   "metadata": {},
   "outputs": [
    {
     "name": "stdout",
     "output_type": "stream",
     "text": [
      "Found 48 images belonging to 3 classes.\n",
      "Found 12 images belonging to 3 classes.\n"
     ]
    }
   ],
   "source": [
    "train_datagen = ImageDataGenerator(rescale=1./255, validation_split=0.2)\n",
    "\n",
    "train_generator = train_datagen.flow_from_directory(\n",
    "    './',\n",
    "    target_size=(150, 150),\n",
    "    batch_size=32,\n",
    "    class_mode='categorical',\n",
    "    subset='training'  # Set as training data\n",
    ")\n",
    "\n",
    "validation_generator = train_datagen.flow_from_directory(\n",
    "    './',\n",
    "    target_size=(150, 150),\n",
    "    batch_size=32,\n",
    "    class_mode='categorical',\n",
    "    subset='validation'  # Set as validation data\n",
    ")"
   ]
  },
  {
   "cell_type": "markdown",
   "metadata": {},
   "source": [
    "Define the Model"
   ]
  },
  {
   "cell_type": "code",
   "execution_count": 104,
   "metadata": {},
   "outputs": [],
   "source": [
    "model = Sequential([\n",
    "    Input(shape=(150, 150, 3)),  # Define the input shape here\n",
    "    Conv2D(32, (3, 3), activation='relu'),\n",
    "    MaxPooling2D((2, 2)),\n",
    "    Conv2D(64, (3, 3), activation='relu'),\n",
    "    MaxPooling2D((2, 2)),\n",
    "    Conv2D(128, (3, 3), activation='relu'),\n",
    "    MaxPooling2D((2, 2)),\n",
    "    Flatten(),\n",
    "    Dense(512, activation='relu'),\n",
    "    Dense(3, activation='softmax')  # Adjust the number of classes as needed\n",
    "])"
   ]
  },
  {
   "cell_type": "markdown",
   "metadata": {},
   "source": [
    "Compile the Model"
   ]
  },
  {
   "cell_type": "code",
   "execution_count": 105,
   "metadata": {},
   "outputs": [],
   "source": [
    "model.compile(optimizer='adam',\n",
    "              loss='categorical_crossentropy',\n",
    "              metrics=['accuracy'])"
   ]
  },
  {
   "cell_type": "markdown",
   "metadata": {},
   "source": [
    "Images check"
   ]
  },
  {
   "cell_type": "code",
   "execution_count": 110,
   "metadata": {},
   "outputs": [
    {
     "name": "stdout",
     "output_type": "stream",
     "text": [
      "Checking images in ./\n",
      "Checking image: ./Pants\\download (0).jpg\n",
      "Checking image: ./Pants\\download (1).jpg\n",
      "Checking image: ./Pants\\download (10).jpg\n",
      "Checking image: ./Pants\\download (11).jpg\n",
      "Checking image: ./Pants\\download (12).jpg\n",
      "Checking image: ./Pants\\download (13).jpg\n",
      "Checking image: ./Pants\\download (14).jpg\n",
      "Checking image: ./Pants\\download (15).jpg\n",
      "Checking image: ./Pants\\download (16).jpg\n",
      "Checking image: ./Pants\\download (17).jpg\n",
      "Checking image: ./Pants\\download (18).jpg\n",
      "Checking image: ./Pants\\download (19).jpg\n",
      "Checking image: ./Pants\\download (2).jpg\n",
      "Checking image: ./Pants\\download (3).jpg\n",
      "Checking image: ./Pants\\download (4).jpg\n",
      "Checking image: ./Pants\\download (5).jpg\n",
      "Checking image: ./Pants\\download (6).jpg\n",
      "Checking image: ./Pants\\download (7).jpg\n",
      "Checking image: ./Pants\\download (8).jpg\n",
      "Checking image: ./Pants\\download (9).jpg\n",
      "Checking image: ./Shirts\\download (0).jpg\n",
      "Checking image: ./Shirts\\download (1).jpg\n",
      "Checking image: ./Shirts\\download (10).jpg\n",
      "Checking image: ./Shirts\\download (11).jpg\n",
      "Checking image: ./Shirts\\download (12).jpg\n",
      "Checking image: ./Shirts\\download (13).jpg\n",
      "Checking image: ./Shirts\\download (14).jpg\n",
      "Checking image: ./Shirts\\download (15).jpg\n",
      "Checking image: ./Shirts\\download (16).png\n",
      "Checking image: ./Shirts\\download (17).jpg\n",
      "Checking image: ./Shirts\\download (18).jpg\n",
      "Checking image: ./Shirts\\download (19).jpg\n",
      "Checking image: ./Shirts\\download (2).jpg\n",
      "Checking image: ./Shirts\\download (3).jpg\n",
      "Checking image: ./Shirts\\download (4).jpg\n",
      "Checking image: ./Shirts\\download (5).jpg\n",
      "Checking image: ./Shirts\\download (6).jpg\n",
      "Checking image: ./Shirts\\download (7).jpg\n",
      "Checking image: ./Shirts\\download (8).jpg\n",
      "Checking image: ./Shirts\\download (9).jpg\n",
      "Checking image: ./Shoes\\download (0).jpg\n",
      "Checking image: ./Shoes\\download (1).jpg\n",
      "Checking image: ./Shoes\\download (10).jpg\n",
      "Checking image: ./Shoes\\download (11).jpg\n",
      "Checking image: ./Shoes\\download (12).jpg\n",
      "Checking image: ./Shoes\\download (13).jpg\n",
      "Checking image: ./Shoes\\download (14).jpg\n",
      "Checking image: ./Shoes\\download (15).jpg\n",
      "Checking image: ./Shoes\\download (16).jpg\n",
      "Checking image: ./Shoes\\download (17).jpg\n",
      "Checking image: ./Shoes\\download (18).jpg\n",
      "Checking image: ./Shoes\\download (19).jpg\n",
      "Checking image: ./Shoes\\download (2).jpg\n",
      "Checking image: ./Shoes\\download (3).jpg\n",
      "Checking image: ./Shoes\\download (4).jpg\n",
      "Checking image: ./Shoes\\download (5).jpg\n",
      "Checking image: ./Shoes\\download (6).jpg\n",
      "Checking image: ./Shoes\\download (7).jpg\n",
      "Checking image: ./Shoes\\download (8).jpg\n",
      "Checking image: ./Shoes\\download (9).jpg\n",
      "Total images checked: 60\n"
     ]
    }
   ],
   "source": [
    "from PIL import Image\n",
    "import os\n",
    "\n",
    "def check_images(directory):\n",
    "    print(f\"Checking images in {directory}\")\n",
    "    checked_images = 0  # Counter for the number of images checked\n",
    "    for root, dirs, files in os.walk(directory):\n",
    "        for file in files:\n",
    "            if file.lower().endswith(('png', 'jpg', 'jpeg')):  # Target common image formats\n",
    "                img_path = os.path.join(root, file)\n",
    "                print(f\"Checking image: {img_path}\")\n",
    "                checked_images += 1\n",
    "                try:\n",
    "                    with Image.open(img_path) as img:\n",
    "                        img.verify()  # Verify it opens as an image\n",
    "                except (IOError, OSError, Image.UnidentifiedImageError, SyntaxError) as e:\n",
    "                    print(f\"Problem with image {img_path}: {e}\")\n",
    "    print(f\"Total images checked: {checked_images}\")\n",
    "\n",
    "check_images('./')"
   ]
  },
  {
   "cell_type": "markdown",
   "metadata": {},
   "source": [
    "Train the Model"
   ]
  },
  {
   "cell_type": "code",
   "execution_count": 107,
   "metadata": {},
   "outputs": [
    {
     "name": "stdout",
     "output_type": "stream",
     "text": [
      "Epoch 1/15\n",
      "\u001b[1m1/1\u001b[0m \u001b[32m━━━━━━━━━━━━━━━━━━━━\u001b[0m\u001b[37m\u001b[0m \u001b[1m2s\u001b[0m 2s/step - accuracy: 0.3750 - loss: 1.0866 - val_accuracy: 0.3333 - val_loss: 3.0511\n",
      "Epoch 2/15\n",
      "\u001b[1m1/1\u001b[0m \u001b[32m━━━━━━━━━━━━━━━━━━━━\u001b[0m\u001b[37m\u001b[0m \u001b[1m0s\u001b[0m 156ms/step - accuracy: 0.4375 - loss: 2.9616 - val_accuracy: 0.3333 - val_loss: 3.3503\n",
      "Epoch 3/15\n",
      "\u001b[1m1/1\u001b[0m \u001b[32m━━━━━━━━━━━━━━━━━━━━\u001b[0m\u001b[37m\u001b[0m \u001b[1m0s\u001b[0m 240ms/step - accuracy: 0.4062 - loss: 3.5333 - val_accuracy: 0.3333 - val_loss: 2.5984\n",
      "Epoch 4/15\n",
      "\u001b[1m1/1\u001b[0m \u001b[32m━━━━━━━━━━━━━━━━━━━━\u001b[0m\u001b[37m\u001b[0m \u001b[1m0s\u001b[0m 156ms/step - accuracy: 0.3750 - loss: 2.4871 - val_accuracy: 0.3333 - val_loss: 1.2853\n",
      "Epoch 5/15\n",
      "\u001b[1m1/1\u001b[0m \u001b[32m━━━━━━━━━━━━━━━━━━━━\u001b[0m\u001b[37m\u001b[0m \u001b[1m0s\u001b[0m 227ms/step - accuracy: 0.4688 - loss: 1.0978 - val_accuracy: 0.5833 - val_loss: 0.9507\n",
      "Epoch 6/15\n",
      "\u001b[1m1/1\u001b[0m \u001b[32m━━━━━━━━━━━━━━━━━━━━\u001b[0m\u001b[37m\u001b[0m \u001b[1m0s\u001b[0m 153ms/step - accuracy: 0.5000 - loss: 0.9647 - val_accuracy: 0.5000 - val_loss: 0.9092\n",
      "Epoch 7/15\n",
      "\u001b[1m1/1\u001b[0m \u001b[32m━━━━━━━━━━━━━━━━━━━━\u001b[0m\u001b[37m\u001b[0m \u001b[1m0s\u001b[0m 175ms/step - accuracy: 0.8125 - loss: 0.7871 - val_accuracy: 0.6667 - val_loss: 1.0416\n",
      "Epoch 8/15\n",
      "\u001b[1m1/1\u001b[0m \u001b[32m━━━━━━━━━━━━━━━━━━━━\u001b[0m\u001b[37m\u001b[0m \u001b[1m0s\u001b[0m 207ms/step - accuracy: 0.5312 - loss: 1.0955 - val_accuracy: 0.5833 - val_loss: 0.7644\n",
      "Epoch 9/15\n",
      "\u001b[1m1/1\u001b[0m \u001b[32m━━━━━━━━━━━━━━━━━━━━\u001b[0m\u001b[37m\u001b[0m \u001b[1m0s\u001b[0m 172ms/step - accuracy: 0.7500 - loss: 0.6030 - val_accuracy: 0.5833 - val_loss: 1.0067\n",
      "Epoch 10/15\n",
      "\u001b[1m1/1\u001b[0m \u001b[32m━━━━━━━━━━━━━━━━━━━━\u001b[0m\u001b[37m\u001b[0m \u001b[1m0s\u001b[0m 177ms/step - accuracy: 0.4375 - loss: 1.0659 - val_accuracy: 0.5000 - val_loss: 0.8279\n",
      "Epoch 11/15\n",
      "\u001b[1m1/1\u001b[0m \u001b[32m━━━━━━━━━━━━━━━━━━━━\u001b[0m\u001b[37m\u001b[0m \u001b[1m0s\u001b[0m 171ms/step - accuracy: 0.7500 - loss: 0.6626 - val_accuracy: 0.7500 - val_loss: 0.7053\n",
      "Epoch 12/15\n",
      "\u001b[1m1/1\u001b[0m \u001b[32m━━━━━━━━━━━━━━━━━━━━\u001b[0m\u001b[37m\u001b[0m \u001b[1m0s\u001b[0m 180ms/step - accuracy: 0.9375 - loss: 0.5428 - val_accuracy: 0.6667 - val_loss: 0.6978\n",
      "Epoch 13/15\n",
      "\u001b[1m1/1\u001b[0m \u001b[32m━━━━━━━━━━━━━━━━━━━━\u001b[0m\u001b[37m\u001b[0m \u001b[1m0s\u001b[0m 159ms/step - accuracy: 0.6250 - loss: 0.5974 - val_accuracy: 0.8333 - val_loss: 0.6132\n",
      "Epoch 14/15\n",
      "\u001b[1m1/1\u001b[0m \u001b[32m━━━━━━━━━━━━━━━━━━━━\u001b[0m\u001b[37m\u001b[0m \u001b[1m0s\u001b[0m 177ms/step - accuracy: 0.9062 - loss: 0.5036 - val_accuracy: 0.5833 - val_loss: 0.6147\n",
      "Epoch 15/15\n",
      "\u001b[1m1/1\u001b[0m \u001b[32m━━━━━━━━━━━━━━━━━━━━\u001b[0m\u001b[37m\u001b[0m \u001b[1m0s\u001b[0m 209ms/step - accuracy: 0.9688 - loss: 0.4173 - val_accuracy: 0.6667 - val_loss: 0.7058\n"
     ]
    }
   ],
   "source": [
    "history = model.fit(\n",
    "    train_generator,\n",
    "    steps_per_epoch=train_generator.samples // train_generator.batch_size,\n",
    "    epochs=15,\n",
    "    validation_data=validation_generator,\n",
    "    validation_steps=validation_generator.samples // validation_generator.batch_size\n",
    ")"
   ]
  },
  {
   "cell_type": "markdown",
   "metadata": {},
   "source": [
    "Evaluate and Predict"
   ]
  },
  {
   "cell_type": "code",
   "execution_count": 108,
   "metadata": {},
   "outputs": [
    {
     "name": "stdout",
     "output_type": "stream",
     "text": [
      "\u001b[1m1/1\u001b[0m \u001b[32m━━━━━━━━━━━━━━━━━━━━\u001b[0m\u001b[37m\u001b[0m \u001b[1m0s\u001b[0m 50ms/step - accuracy: 0.6667 - loss: 0.7058\n",
      "Validation Accuracy: 0.6666666865348816\n",
      "\u001b[1m1/1\u001b[0m \u001b[32m━━━━━━━━━━━━━━━━━━━━\u001b[0m\u001b[37m\u001b[0m \u001b[1m0s\u001b[0m 86ms/step\n"
     ]
    }
   ],
   "source": [
    "loss, accuracy = model.evaluate(validation_generator)\n",
    "print(f\"Validation Accuracy: {accuracy}\")\n",
    "\n",
    "# Making predictions\n",
    "predictions = model.predict(validation_generator)"
   ]
  },
  {
   "cell_type": "markdown",
   "metadata": {},
   "source": [
    "Visualizing Performance"
   ]
  },
  {
   "cell_type": "code",
   "execution_count": 109,
   "metadata": {},
   "outputs": [
    {
     "data": {
      "image/png": "[encoded data removed]",
      "text/plain": [
       "<Figure size 640x480 with 1 Axes>"
      ]
     },
     "metadata": {},
     "output_type": "display_data"
    }
   ],
   "source": [
    "plt.plot(history.history['accuracy'], label='accuracy')\n",
    "plt.plot(history.history['val_accuracy'], label='val_accuracy')\n",
    "plt.xlabel('Epoch')\n",
    "plt.ylabel('Accuracy')\n",
    "plt.legend(loc='lower right')\n",
    "plt.show()"
   ]
  }
 ],
 "metadata": {
  "kernelspec": {
   "display_name": "Python 3",
   "language": "python",
   "name": "python3"
  },
  "language_info": {
   "codemirror_mode": {
    "name": "ipython",
    "version": 3
   },
   "file_extension": ".py",
   "mimetype": "text/x-python",
   "name": "python",
   "nbconvert_exporter": "python",
   "pygments_lexer": "ipython3",
   "version": "3.11.9"
  }
 },
 "nbformat": 4,
 "nbformat_minor": 2
}
